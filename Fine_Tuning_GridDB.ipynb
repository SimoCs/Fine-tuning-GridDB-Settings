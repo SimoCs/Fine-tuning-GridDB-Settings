{
  "nbformat": 4,
  "nbformat_minor": 0,
  "metadata": {
    "colab": {
      "name": "Fine-Tuning GridDB.ipynb",
      "provenance": []
    },
    "kernelspec": {
      "name": "python3",
      "display_name": "Python 3"
    },
    "language_info": {
      "name": "python"
    }
  },
  "cells": [
    {
      "cell_type": "code",
      "execution_count": null,
      "metadata": {
        "id": "gi5RC7eXCuon"
      },
      "outputs": [],
      "source": [
        "import json"
      ]
    },
    {
      "cell_type": "markdown",
      "source": [
        "# V1 Edits"
      ],
      "metadata": {
        "id": "qe63wAV1FBSU"
      }
    },
    {
      "cell_type": "code",
      "source": [
        "CONFIG = {\n",
        "    \"dataStore\":{\n",
        "        \"logWriteMode\":1,\n",
        "        \"persistencyMode\":\"NORMAL\",\n",
        "    },\n",
        "    \"transaction\":{\n",
        "        \"replicationMode\":0\n",
        "    }\n",
        "}"
      ],
      "metadata": {
        "id": "4bQ31---Dy7E"
      },
      "execution_count": null,
      "outputs": []
    },
    {
      "cell_type": "code",
      "source": [
        "gridDB_config = json.dumps(CONFIG)"
      ],
      "metadata": {
        "id": "j4PXbFTHDofL"
      },
      "execution_count": null,
      "outputs": []
    },
    {
      "cell_type": "code",
      "source": [
        "# Save in edits v1.json\n",
        "with open(\"edits v1.json\", \"w\") as outfile:\n",
        "    outfile.write(gridDB_config)"
      ],
      "metadata": {
        "id": "lDxQKX5nDpgf"
      },
      "execution_count": null,
      "outputs": []
    },
    {
      "cell_type": "markdown",
      "source": [
        "# V2 Edits"
      ],
      "metadata": {
        "id": "srFZrzp_FFD7"
      }
    },
    {
      "cell_type": "code",
      "source": [
        "CONFIG = {\n",
        "    \"dataStore\":{\n",
        "        \"logWriteMode\":0,\n",
        "        \"persistencyMode\":\"KEEP_ALL_LOGS\",\n",
        "    },\n",
        "    \"transaction\":{\n",
        "        \"replicationMode\":1\n",
        "    }\n",
        "}"
      ],
      "metadata": {
        "id": "kIr88_EIE1Ns"
      },
      "execution_count": null,
      "outputs": []
    },
    {
      "cell_type": "code",
      "source": [
        "gridDB_config = json.dumps(CONFIG)"
      ],
      "metadata": {
        "id": "ZgtCuNPIE1b7"
      },
      "execution_count": null,
      "outputs": []
    },
    {
      "cell_type": "code",
      "source": [
        "# Save in edits v2.json\n",
        "with open(\"edits v2.json\", \"w\") as outfile:\n",
        "    outfile.write(gridDB_config)"
      ],
      "metadata": {
        "id": "9eWGRscbE6f6"
      },
      "execution_count": null,
      "outputs": []
    }
  ]
}